{
 "cells": [
  {
   "cell_type": "code",
   "execution_count": null,
   "id": "540b3a22-975b-475f-9441-5d2e3d38f77f",
   "metadata": {},
   "outputs": [],
   "source": [
    "import cv2\n",
    "import numpy as np\n",
    "#照片读取\n",
    "img1 = cv2.imread('1.png')\n",
    "cv2.imshow('', img1)\n",
    "cv2.waitKey(0)                 # 按下任意鍵停止\n",
    "cv2.destroyAllWindows()  \n",
    "img2 = cv2.imread('11.jpeg')\n",
    "cv2.imshow('', img2)\n",
    "cv2.waitKey(0)                 # 按下任意鍵停止\n",
    "cv2.destroyAllWindows()  \n",
    "img2 = cv2.resize(img2,dsize=(630,630))\n",
    "#建立窗口\n",
    "cv2.namedWindow(\"task\")\n",
    "\n",
    "#设置颜色提取阈值，绿色\n",
    "color_dist = {'green': {'Lower': np.array([26, 104, 85]), 'Upper': np.array([100, 255, 255])}}\n",
    "#将RGB图片转换为HSV图像\n",
    "hsv = cv2.cvtColor(img1, cv2.COLOR_RGB2HSV)\n",
    "background_mask = cv2.inRange(hsv, color_dist['green']['Lower'], color_dist['green']['Upper'])\n",
    "\n",
    "person_mask = ~background_mask\n",
    "\n",
    "#将人像进行mask处理，得到需要添加的背景\n",
    "scenic_img = cv2.bitwise_and(img2, img2, mask = background_mask)\n",
    "\n",
    "#mask只有0和1，得到去除绿色背景后的人像\n",
    "person_img = cv2.bitwise_and(img1, img1, mask = person_mask)\n",
    "\n",
    "result = cv2.add(scenic_img,person_img)\n"
   ]
  },
  {
   "cell_type": "code",
   "execution_count": null,
   "id": "7ee018ed-7b5e-4c49-8398-376eab88ba99",
   "metadata": {},
   "outputs": [],
   "source": []
  }
 ],
 "metadata": {
  "kernelspec": {
   "display_name": "Python 3 (ipykernel)",
   "language": "python",
   "name": "python3"
  },
  "language_info": {
   "codemirror_mode": {
    "name": "ipython",
    "version": 3
   },
   "file_extension": ".py",
   "mimetype": "text/x-python",
   "name": "python",
   "nbconvert_exporter": "python",
   "pygments_lexer": "ipython3",
   "version": "3.12.3"
  }
 },
 "nbformat": 4,
 "nbformat_minor": 5
}
